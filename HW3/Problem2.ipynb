{
  "cells": [
    {
      "cell_type": "markdown",
      "metadata": {
        "id": "DDpq-T_0dK9O"
      },
      "source": [
        "# Machine Learning Exercise 4 - Neural Networks"
      ]
    },
    {
      "cell_type": "markdown",
      "metadata": {
        "id": "bqe4T_ModK9Q"
      },
      "source": [
        "This notebook covers a Python-based solution for the fourth programming exercise of the machine learning class on Coursera.  Please refer to the [exercise text](https://github.com/jdwittenauer/ipython-notebooks/blob/master/exercises/ML/ex4.pdf) for detailed descriptions and equations."
      ]
    },
    {
      "cell_type": "markdown",
      "metadata": {
        "id": "gr7L4iuzdK9Q"
      },
      "source": [
        "For this exercise we'll again tackle the hand-written digits data set, this time using a feed-forward neural network with backpropagation.  We'll implement un-regularized and regularized versions of the neural network cost function and gradient computation via the backpropagation algorithm.  We'll also implement random weight initialization and a method to use the network to make predictions.\n",
        "\n",
        "Since the data set is the same one we used in exercise 3, we'll re-use the code to load the data."
      ]
    },
    {
      "cell_type": "code",
      "execution_count": 4,
      "metadata": {
        "colab": {
          "base_uri": "https://localhost:8080/"
        },
        "id": "3gZ5qdoKdK9Q",
        "outputId": "6ae14699-0981-4b9e-8a2b-32ff89d3b68f"
      },
      "outputs": [
        {
          "data": {
            "text/plain": [
              "{'__header__': b'MATLAB 5.0 MAT-file, Platform: GLNXA64, Created on: Sun Oct 16 13:09:09 2011',\n",
              " '__version__': '1.0',\n",
              " '__globals__': [],\n",
              " 'X': array([[0., 0., 0., ..., 0., 0., 0.],\n",
              "        [0., 0., 0., ..., 0., 0., 0.],\n",
              "        [0., 0., 0., ..., 0., 0., 0.],\n",
              "        ...,\n",
              "        [0., 0., 0., ..., 0., 0., 0.],\n",
              "        [0., 0., 0., ..., 0., 0., 0.],\n",
              "        [0., 0., 0., ..., 0., 0., 0.]]),\n",
              " 'y': array([[10],\n",
              "        [10],\n",
              "        [10],\n",
              "        ...,\n",
              "        [ 9],\n",
              "        [ 9],\n",
              "        [ 9]], dtype=uint8)}"
            ]
          },
          "execution_count": 4,
          "metadata": {},
          "output_type": "execute_result"
        }
      ],
      "source": [
        "import numpy as np\n",
        "import pandas as pd\n",
        "import matplotlib.pyplot as plt\n",
        "from scipy.io import loadmat\n",
        "%matplotlib inline\n",
        "\n",
        "data = loadmat('/content/drive/MyDrive/ex3data1.mat')\n",
        "data"
      ]
    },
    {
      "cell_type": "markdown",
      "metadata": {
        "id": "HF-K7W5TdK9R"
      },
      "source": [
        "Since we're going to need these later (and will use them often), let's create some useful variables up-front."
      ]
    },
    {
      "cell_type": "code",
      "execution_count": 5,
      "metadata": {
        "colab": {
          "base_uri": "https://localhost:8080/"
        },
        "id": "vH4acovhdK9R",
        "outputId": "e7099825-4d5a-42ad-a5c4-4c6872daba84"
      },
      "outputs": [
        {
          "data": {
            "text/plain": [
              "((5000, 400), (5000, 1))"
            ]
          },
          "execution_count": 5,
          "metadata": {},
          "output_type": "execute_result"
        }
      ],
      "source": [
        "X = data['X']\n",
        "y = data['y']\n",
        "\n",
        "X.shape, y.shape"
      ]
    },
    {
      "cell_type": "markdown",
      "metadata": {
        "id": "5I6CxOOxdK9R"
      },
      "source": [
        "We're also going to need to one-hot encode our y labels.  One-hot encoding turns a class label n (out of k classes) into a vector of length k where index n is \"hot\" (1) while the rest are zero.  Scikit-learn has a built in utility we can use for this."
      ]
    },
    {
      "cell_type": "code",
      "execution_count": 6,
      "metadata": {
        "colab": {
          "base_uri": "https://localhost:8080/"
        },
        "id": "gIBwzIaQdK9R",
        "outputId": "b6b9b0ab-2873-4a49-d552-f5b160181dca"
      },
      "outputs": [
        {
          "name": "stderr",
          "output_type": "stream",
          "text": [
            "/usr/local/lib/python3.10/dist-packages/sklearn/preprocessing/_encoders.py:868: FutureWarning: `sparse` was renamed to `sparse_output` in version 1.2 and will be removed in 1.4. `sparse_output` is ignored unless you leave `sparse` to its default value.\n",
            "  warnings.warn(\n"
          ]
        },
        {
          "data": {
            "text/plain": [
              "(5000, 10)"
            ]
          },
          "execution_count": 6,
          "metadata": {},
          "output_type": "execute_result"
        }
      ],
      "source": [
        "from sklearn.preprocessing import OneHotEncoder\n",
        "encoder = OneHotEncoder(sparse=False)\n",
        "y_onehot = encoder.fit_transform(y)\n",
        "y_onehot.shape"
      ]
    },
    {
      "cell_type": "code",
      "execution_count": 7,
      "metadata": {
        "colab": {
          "base_uri": "https://localhost:8080/"
        },
        "id": "UFXai0ubdK9S",
        "outputId": "b18ead96-1fcc-4807-f315-d30ff341ae55"
      },
      "outputs": [
        {
          "data": {
            "text/plain": [
              "(array([10], dtype=uint8), array([0., 0., 0., 0., 0., 0., 0., 0., 0., 1.]))"
            ]
          },
          "execution_count": 7,
          "metadata": {},
          "output_type": "execute_result"
        }
      ],
      "source": [
        "y[0], y_onehot[0,:]"
      ]
    },
    {
      "cell_type": "markdown",
      "metadata": {
        "id": "HtycNenKdK9S"
      },
      "source": [
        "The neural network we're going to build for this exercise has an input layer matching the size of our instance data (400 + the bias unit), a hidden layer with 25 units (26 with the bias unit), and an output layer with 10 units corresponding to our one-hot encoding for the class labels.  For additional details and an image of the network architecture, please refer to the PDF in the \"exercises\" folder.\n",
        "\n",
        "The first piece we need to implement is a cost function to evaluate the loss for a given set of network parameters.  The source mathematical function is in the exercise text (and looks pretty intimidating).  Here are the functions required to compute the cost."
      ]
    },
    {
      "cell_type": "code",
      "execution_count": 8,
      "metadata": {
        "collapsed": true,
        "id": "s90TOU96dK9S"
      },
      "outputs": [],
      "source": [
        "def sigmoid(z):\n",
        "    return 1 / (1 + np.exp(-2*z))"
      ]
    },
    {
      "cell_type": "code",
      "execution_count": 9,
      "metadata": {
        "collapsed": true,
        "id": "QE_Vg8qRdK9S"
      },
      "outputs": [],
      "source": [
        "def forward_propagate(X, theta1, theta2, theta3):\n",
        "    m = X.shape[0]\n",
        "\n",
        "    a1 = np.insert(X, 0, values=np.ones(m), axis=1)\n",
        "    z2 = a1 * theta1.T\n",
        "    a2 = np.insert(sigmoid(z2), 0, values=np.ones(m), axis=1)\n",
        "    z3 = a2 * theta2.T\n",
        "    a3 = np.insert(sigmoid(z3), 0, values=np.ones(m), axis=1)\n",
        "    z4 = a3 * theta3.T\n",
        "    h = sigmoid(z4)\n",
        "\n",
        "    return a1, z2, a2, z3, a3, z4, h"
      ]
    },
    {
      "cell_type": "code",
      "execution_count": 10,
      "metadata": {
        "collapsed": true,
        "id": "X1evc9G4dK9S"
      },
      "outputs": [],
      "source": [
        "def cost(params, input_size, hidden_size_1, hidden_size_2, num_labels, X, y, learning_rate):\n",
        "    m = X.shape[0]\n",
        "    X = np.matrix(X)\n",
        "    y = np.matrix(y)\n",
        "\n",
        "    # reshape the parameter array into parameter matrices for each layer\n",
        "    theta1 = np.matrix(np.reshape(params[:hidden_size_1 * (input_size + 1)], (hidden_size_1, (input_size + 1))))\n",
        "    theta2 = np.matrix(np.reshape(params[hidden_size_1 * (input_size + 1):hidden_size_1 * (input_size + 1) + hidden_size_2 * (hidden_size_1 + 1)], (hidden_size_2, (hidden_size_1 + 1))))\n",
        "    theta3 = np.matrix(np.reshape(params[hidden_size_1 * (input_size + 1) + hidden_size_2 * (hidden_size_1 + 1):], (num_labels, (hidden_size_2 + 1))))\n",
        "\n",
        "    # run the feed-forward pass\n",
        "    a1, z2, a2, z3, a3, z4, h = forward_propagate(X, theta1, theta2, theta3)\n",
        "\n",
        "    # compute the cost\n",
        "    J = 0\n",
        "    for i in range(m):\n",
        "        first_term = np.multiply(-y[i,:], np.log(h[i,:]))\n",
        "        second_term = np.multiply((1 - y[i,:]), np.log(1 - h[i,:]))\n",
        "        J += np.sum(first_term - second_term)\n",
        "\n",
        "    J = J / m\n",
        "\n",
        "    return J"
      ]
    },
    {
      "cell_type": "markdown",
      "metadata": {
        "id": "ftw2DGbgdK9S"
      },
      "source": [
        "We've used the sigmoid function before so that's not new.  The forward-propagate function computes the hypothesis for each training instance given the current parameters.  It's output shape should match the same of our one-hot encoding for y.  We can test this real quick to convince ourselves that it's working as expected (the intermediate steps are also returned as these will be useful later)."
      ]
    },
    {
      "cell_type": "code",
      "execution_count": 11,
      "metadata": {
        "colab": {
          "base_uri": "https://localhost:8080/"
        },
        "id": "J1QyGhQpdK9S",
        "outputId": "8932e14a-f3dd-4c96-e2cb-b4c2506b9152"
      },
      "outputs": [
        {
          "data": {
            "text/plain": [
              "((100, 401), (25, 101), (10, 26))"
            ]
          },
          "execution_count": 11,
          "metadata": {},
          "output_type": "execute_result"
        }
      ],
      "source": [
        "# initial setup\n",
        "input_size = 400\n",
        "hidden_size_1 = 100\n",
        "hidden_size_2 = 25\n",
        "num_labels = 10\n",
        "learning_rate = 1\n",
        "\n",
        "# randomly initialize a parameter array of the size of the full network's parameters\n",
        "params = (np.random.random(size=hidden_size_1 * (input_size + 1) + hidden_size_2 * (hidden_size_1 + 1) + num_labels * (hidden_size_2 + 1)) - 0.5) * 0.25\n",
        "\n",
        "m = X.shape[0]\n",
        "X = np.matrix(X)\n",
        "y = np.matrix(y)\n",
        "\n",
        "# unravel the parameter array into parameter matrices for each layer\n",
        "theta1 = np.matrix(np.reshape(params[:hidden_size_1 * (input_size + 1)], (hidden_size_1, (input_size + 1))))\n",
        "theta2 = np.matrix(np.reshape(params[hidden_size_1 * (input_size + 1):hidden_size_1 * (input_size + 1) + hidden_size_2 * (hidden_size_1 + 1)], (hidden_size_2, (hidden_size_1 + 1))))\n",
        "theta3 = np.matrix(np.reshape(params[hidden_size_1 * (input_size + 1) + hidden_size_2 * (hidden_size_1 + 1):], (num_labels, (hidden_size_2 + 1))))\n",
        "\n",
        "theta1.shape, theta2.shape, theta3.shape"
      ]
    },
    {
      "cell_type": "code",
      "execution_count": 12,
      "metadata": {
        "colab": {
          "base_uri": "https://localhost:8080/"
        },
        "id": "3RGHhT1edK9S",
        "outputId": "3970f944-ed62-425e-bc7a-e40261d69e80"
      },
      "outputs": [
        {
          "data": {
            "text/plain": [
              "((5000, 401),\n",
              " (5000, 100),\n",
              " (5000, 101),\n",
              " (5000, 25),\n",
              " (5000, 26),\n",
              " (5000, 10),\n",
              " (5000, 10))"
            ]
          },
          "execution_count": 12,
          "metadata": {},
          "output_type": "execute_result"
        }
      ],
      "source": [
        "a1, z2, a2, z3, a3, z4, h = forward_propagate(X, theta1, theta2, theta3)\n",
        "a1.shape, z2.shape, a2.shape, z3.shape, a3.shape, z4.shape, h.shape"
      ]
    },
    {
      "cell_type": "markdown",
      "metadata": {
        "id": "mI7wsShddK9S"
      },
      "source": [
        "The cost function, after computing the hypothesis matrix h, applies the cost equation to compute the total error between y and h."
      ]
    },
    {
      "cell_type": "code",
      "execution_count": 13,
      "metadata": {
        "colab": {
          "base_uri": "https://localhost:8080/"
        },
        "id": "4Au0R0gLdK9S",
        "outputId": "bae7586c-4346-49e7-af26-c47f4810deec"
      },
      "outputs": [
        {
          "data": {
            "text/plain": [
              "7.464261821150436"
            ]
          },
          "execution_count": 13,
          "metadata": {},
          "output_type": "execute_result"
        }
      ],
      "source": [
        "cost(params, input_size, hidden_size_1, hidden_size_2, num_labels, X, y_onehot, learning_rate)"
      ]
    },
    {
      "cell_type": "markdown",
      "metadata": {
        "id": "c8ZEDsDRdK9S"
      },
      "source": [
        "Our next step is to add regularization to the cost function.  If you're following along in the exercise text and thought the last equation looked ugly, this one looks REALLY ugly.  It's actually not as complicated as it looks though - in fact, the regularization term is simply an addition to the cost we already computed.  Here's the revised cost function."
      ]
    },
    {
      "cell_type": "code",
      "execution_count": 14,
      "metadata": {
        "collapsed": true,
        "id": "yLfgG5P1dK9T"
      },
      "outputs": [],
      "source": [
        "def cost(params, input_size, hidden_size_1, hidden_size_2, num_labels, X, y, learning_rate):\n",
        "    m = X.shape[0]\n",
        "    X = np.matrix(X)\n",
        "    y = np.matrix(y)\n",
        "\n",
        "    # reshape the parameter array into parameter matrices for each layer\n",
        "    theta1 = np.matrix(np.reshape(params[:hidden_size_1 * (input_size + 1)], (hidden_size_1, (input_size + 1))))\n",
        "    theta2 = np.matrix(np.reshape(params[hidden_size_1 * (input_size + 1):hidden_size_1 * (input_size + 1) + hidden_size_2 * (hidden_size_1 + 1)], (hidden_size_2, (hidden_size_1 + 1))))\n",
        "    theta3 = np.matrix(np.reshape(params[hidden_size_1 * (input_size + 1) + hidden_size_2 * (hidden_size_1 + 1):], (num_labels, (hidden_size_2 + 1))))\n",
        "\n",
        "    # run the feed-forward pass\n",
        "    a1, z2, a2, z3, a3, z4, h = forward_propagate(X, theta1, theta2, theta3)\n",
        "\n",
        "    # compute the cost\n",
        "    J = 0\n",
        "    for i in range(m):\n",
        "        first_term = np.multiply(-y[i,:], np.log(h[i,:]))\n",
        "        second_term = np.multiply((1 - y[i,:]), np.log(1 - h[i,:]))\n",
        "        J += np.sum(first_term - second_term)\n",
        "\n",
        "    J = J / m\n",
        "\n",
        "    # add the cost regularization term\n",
        "    J += (float(learning_rate) / (2 * m)) * (np.sum(np.power(theta1[:,1:], 2)) + np.sum(np.power(theta2[:,1:], 2)))\n",
        "\n",
        "    return J"
      ]
    },
    {
      "cell_type": "code",
      "execution_count": 15,
      "metadata": {
        "colab": {
          "base_uri": "https://localhost:8080/"
        },
        "id": "oWVpsGsNdK9T",
        "outputId": "68e9c39f-f479-4345-ba34-b53cda89942d"
      },
      "outputs": [
        {
          "data": {
            "text/plain": [
              "7.486310223737923"
            ]
          },
          "execution_count": 15,
          "metadata": {},
          "output_type": "execute_result"
        }
      ],
      "source": [
        "cost(params, input_size, hidden_size_1, hidden_size_2, num_labels, X, y_onehot, learning_rate)"
      ]
    },
    {
      "cell_type": "markdown",
      "metadata": {
        "id": "VoEmlOtAdK9T"
      },
      "source": [
        "Next up is the backpropagation algorithm.  Backpropagation computes the parameter updates that will reduce the error of the network on the training data.  The first thing we need is a function that computes the gradient of the sigmoid function we created earlier."
      ]
    },
    {
      "cell_type": "code",
      "execution_count": 16,
      "metadata": {
        "collapsed": true,
        "id": "_6h-d0M-dK9T"
      },
      "outputs": [],
      "source": [
        "def sigmoid_gradient(z):\n",
        "    return 2 * np.multiply(sigmoid(z), (1 - sigmoid(z)))"
      ]
    },
    {
      "cell_type": "markdown",
      "metadata": {
        "id": "0UP_Dn3QdK9T"
      },
      "source": [
        "Now we're ready to implement backpropagation to compute the gradients.  Since the computations required for backpropagation are a superset of those required in the cost function, we're actually going to extend the cost function to also perform backpropagation and return both the cost and the gradients."
      ]
    },
    {
      "cell_type": "code",
      "execution_count": 23,
      "metadata": {
        "collapsed": true,
        "id": "P__p9Bw2dK9T"
      },
      "outputs": [],
      "source": [
        "def backprop(params, input_size, hidden_size_1, hidden_size_2, num_labels, X, y, learning_rate):\n",
        "    m = X.shape[0]\n",
        "    X = np.matrix(X)\n",
        "    y = np.matrix(y)\n",
        "\n",
        "    # reshape the parameter array into parameter matrices for each layer\n",
        "    theta1 = np.matrix(np.reshape(params[:hidden_size_1 * (input_size + 1)], (hidden_size_1, (input_size + 1))))\n",
        "    theta2 = np.matrix(np.reshape(params[hidden_size_1 * (input_size + 1):hidden_size_1 * (input_size + 1) + hidden_size_2 * (hidden_size_1 + 1)], (hidden_size_2, (hidden_size_1 + 1))))\n",
        "    theta3 = np.matrix(np.reshape(params[hidden_size_1 * (input_size + 1) + hidden_size_2 * (hidden_size_1 + 1):], (num_labels, (hidden_size_2 + 1))))\n",
        "\n",
        "    # run the feed-forward pass\n",
        "    a1, z2, a2, z3, a3, z4, h = forward_propagate(X, theta1, theta2, theta3)\n",
        "\n",
        "    # initializations\n",
        "    J = 0\n",
        "    delta1 = np.zeros(theta1.shape)  # (100, 401)\n",
        "    delta2 = np.zeros(theta2.shape)  # (25, 101)\n",
        "    delta3 = np.zeros(theta3.shape)  # (10, 26)\n",
        "\n",
        "    # compute the cost\n",
        "    for i in range(m):\n",
        "        first_term = np.multiply(-y[i,:], np.log(h[i,:]))\n",
        "        second_term = np.multiply((1 - y[i,:]), np.log(1 - h[i,:]))\n",
        "        J += np.sum(first_term - second_term)\n",
        "\n",
        "    J = J / m\n",
        "\n",
        "    # add the cost regularization term\n",
        "    J += (float(learning_rate) / (2 * m)) * (np.sum(np.power(theta1[:,1:], 2)) + np.sum(np.power(theta2[:,1:], 2)))\n",
        "\n",
        "    # perform backpropagation\n",
        "    for t in range(m):\n",
        "        a1t = a1[t,:]  # (1, 401)\n",
        "        z2t = z2[t,:]  # (1, 100)\n",
        "        a2t = a2[t,:]  # (1, 101)\n",
        "        z3t = z3[t,:]  # (1, 25)\n",
        "        a3t = a3[t,:]  # (1, 26)\n",
        "        ht = h[t,:]  # (1, 10)\n",
        "        yt = y[t,:]  # (1, 10)\n",
        "\n",
        "        d4t = ht - yt  # (1, 10)\n",
        "\n",
        "        z3t = np.insert(z3t, 0, values=np.ones(1))\n",
        "        d3t = np.multiply((theta3.T * d4t.T).T, sigmoid_gradient(z3t))\n",
        "\n",
        "        z2t = np.insert(z2t, 0, values=np.ones(1))\n",
        "        d2t = np.multiply((theta2.T * d3t[:,1:].T).T, sigmoid_gradient(z2t))\n",
        "\n",
        "        delta1 = delta1 + (d2t[:,1:]).T * a1t\n",
        "        delta2 = delta2 + (d3t[:,1:]).T * a2t\n",
        "        delta3 = delta3 + d4t.T * a3t\n",
        "\n",
        "    delta1 = delta1 / m\n",
        "    delta2 = delta2 / m\n",
        "    delta3 = delta3 / m\n",
        "\n",
        "    # unravel the gradient matrices into a single array\n",
        "    grad = np.concatenate((np.ravel(delta1), np.ravel(delta2), np.ravel(delta3)))\n",
        "\n",
        "    return J, grad"
      ]
    },
    {
      "cell_type": "markdown",
      "metadata": {
        "id": "V5Z5h8DTdK9T"
      },
      "source": [
        "The hardest part of the backprop computation (other than understanding WHY we're doing all these calculations) is getting the matrix dimensions right.  By the way, if you find it confusing when to use A * B vs. np.multiply(A, B), you're not alone.  Basically the former is a matrix multiplication and the latter is an element-wise multiplication (unless A or B is a scalar value, in which case it doesn't matter).  I wish there was a more concise syntax for this (maybe there is and I'm just not aware of it).\n",
        "\n",
        "Anyway, let's test it out to make sure the function returns what we're expecting it to."
      ]
    },
    {
      "cell_type": "code",
      "execution_count": 24,
      "metadata": {
        "colab": {
          "base_uri": "https://localhost:8080/"
        },
        "id": "ADP9p8lvdK9T",
        "outputId": "66be3ff9-ebdf-4984-b9e5-ee78b95c8c8d"
      },
      "outputs": [
        {
          "data": {
            "text/plain": [
              "(7.486310223737923, (42885,))"
            ]
          },
          "execution_count": 24,
          "metadata": {},
          "output_type": "execute_result"
        }
      ],
      "source": [
        "J, grad = backprop(params, input_size, hidden_size_1, hidden_size_2, num_labels, X, y_onehot, learning_rate)\n",
        "J, grad.shape"
      ]
    },
    {
      "cell_type": "markdown",
      "metadata": {
        "id": "R-GnNWNCdK9T"
      },
      "source": [
        "We still have one more modification to make to the backprop function - adding regularization to the gradient calculations.  The final regularized version is below."
      ]
    },
    {
      "cell_type": "code",
      "execution_count": 29,
      "metadata": {
        "collapsed": true,
        "id": "aF7MBp8OdK9T"
      },
      "outputs": [],
      "source": [
        "def backprop(params, input_size, hidden_size_1, hidden_size_2, num_labels, X, y, learning_rate):\n",
        "    m = X.shape[0]\n",
        "    X = np.matrix(X)\n",
        "    y = np.matrix(y)\n",
        "\n",
        "    # reshape the parameter array into parameter matrices for each layer\n",
        "    theta1 = np.matrix(np.reshape(params[:hidden_size_1 * (input_size + 1)], (hidden_size_1, (input_size + 1))))\n",
        "    theta2 = np.matrix(np.reshape(params[hidden_size_1 * (input_size + 1):hidden_size_1 * (input_size + 1) + hidden_size_2 * (hidden_size_1 + 1)], (hidden_size_2, (hidden_size_1 + 1))))\n",
        "    theta3 = np.matrix(np.reshape(params[hidden_size_1 * (input_size + 1) + hidden_size_2 * (hidden_size_1 + 1):], (num_labels, (hidden_size_2 + 1))))\n",
        "\n",
        "    # run the feed-forward pass\n",
        "    a1, z2, a2, z3, a3, z4, h = forward_propagate(X, theta1, theta2, theta3)\n",
        "\n",
        "    # initializations\n",
        "    J = 0\n",
        "    delta1 = np.zeros(theta1.shape)  # (100, 401)\n",
        "    delta2 = np.zeros(theta2.shape)  # (25, 101)\n",
        "    delta3 = np.zeros(theta3.shape)  # (10, 26)\n",
        "\n",
        "    # compute the cost\n",
        "    for i in range(m):\n",
        "        first_term = np.multiply(-y[i,:], np.log(h[i,:]))\n",
        "        second_term = np.multiply((1 - y[i,:]), np.log(1 - h[i,:]))\n",
        "        J += np.sum(first_term - second_term)\n",
        "\n",
        "    J = J / m\n",
        "\n",
        "    # add the cost regularization term\n",
        "    J += (float(learning_rate) / (2 * m)) * (np.sum(np.power(theta1[:,1:], 2)) + np.sum(np.power(theta2[:,1:], 2)))\n",
        "\n",
        "    # perform backpropagation\n",
        "    for t in range(m):\n",
        "        a1t = a1[t,:]  # (1, 401)\n",
        "        z2t = z2[t,:]  # (1, 100)\n",
        "        a2t = a2[t,:]  # (1, 101)\n",
        "        z3t = z3[t,:]  # (1, 25)\n",
        "        a3t = a3[t,:]  # (1, 26)\n",
        "        ht = h[t,:]  # (1, 10)\n",
        "        yt = y[t,:]  # (1, 10)\n",
        "\n",
        "        d4t = ht - yt  # (1, 10)\n",
        "\n",
        "        z3t = np.insert(z3t, 0, values=np.ones(1))\n",
        "        d3t = np.multiply((theta3.T * d4t.T).T, sigmoid_gradient(z3t))\n",
        "\n",
        "        z2t = np.insert(z2t, 0, values=np.ones(1))\n",
        "        d2t = np.multiply((theta2.T * d3t[:,1:].T).T, sigmoid_gradient(z2t))\n",
        "\n",
        "        delta1 = delta1 + (d2t[:,1:]).T * a1t\n",
        "        delta2 = delta2 + (d3t[:,1:]).T * a2t\n",
        "        delta3 = delta3 + d4t.T * a3t\n",
        "\n",
        "    delta1 = delta1 / m\n",
        "    delta2 = delta2 / m\n",
        "    delta3 = delta3 / m\n",
        "\n",
        "    # add the gradient regularization term\n",
        "    delta1[:,1:] = delta1[:,1:] + (theta1[:,1:] * learning_rate) / m\n",
        "    delta2[:,1:] = delta2[:,1:] + (theta2[:,1:] * learning_rate) / m\n",
        "    delta3[:,1:] = delta3[:,1:] + (theta3[:,1:] * learning_rate) / m\n",
        "\n",
        "    # unravel the gradient matrices into a single array\n",
        "    grad = np.concatenate((np.ravel(delta1), np.ravel(delta2), np.ravel(delta3)))\n",
        "\n",
        "    return J, grad"
      ]
    },
    {
      "cell_type": "code",
      "execution_count": 30,
      "metadata": {
        "colab": {
          "base_uri": "https://localhost:8080/"
        },
        "id": "Gg-8gvD2dK9T",
        "outputId": "c363f723-1e30-4b3b-e316-2711fbeeac33"
      },
      "outputs": [
        {
          "data": {
            "text/plain": [
              "(7.486310223737923, (42885,))"
            ]
          },
          "execution_count": 30,
          "metadata": {},
          "output_type": "execute_result"
        }
      ],
      "source": [
        "J, grad = backprop(params, input_size, hidden_size_1, hidden_size_2, num_labels, X, y_onehot, learning_rate)\n",
        "J, grad.shape"
      ]
    },
    {
      "cell_type": "markdown",
      "metadata": {
        "id": "n1zUbj10dK9T"
      },
      "source": [
        "We're finally ready to train our network and use it to make predictions.  This is roughly similar to the previous exercise with multi-class logistic regression."
      ]
    },
    {
      "cell_type": "code",
      "execution_count": 31,
      "metadata": {
        "colab": {
          "base_uri": "https://localhost:8080/"
        },
        "id": "0wISIgUCdK9T",
        "outputId": "d5d6833c-6b5d-4657-d46c-6708104984f3"
      },
      "outputs": [
        {
          "name": "stderr",
          "output_type": "stream",
          "text": [
            "<ipython-input-31-c71453587540>:4: OptimizeWarning: Unknown solver options: maxiter\n",
            "  fmin = minimize(fun=backprop, x0=params, args=(input_size, hidden_size_1, hidden_size_2, num_labels, X, y_onehot, learning_rate),\n"
          ]
        },
        {
          "data": {
            "text/plain": [
              " message: Converged (|f_n-f_(n-1)| ~= 0)\n",
              " success: True\n",
              "  status: 1\n",
              "     fun: 0.05516660707597121\n",
              "       x: [ 8.881e-01  1.113e-04 ... -8.599e-01  9.814e-01]\n",
              "     nit: 48\n",
              "     jac: [-4.952e-05  2.226e-08 ... -1.160e-05  2.254e-05]\n",
              "    nfev: 839"
            ]
          },
          "execution_count": 31,
          "metadata": {},
          "output_type": "execute_result"
        }
      ],
      "source": [
        "from scipy.optimize import minimize\n",
        "\n",
        "# minimize the objective function\n",
        "fmin = minimize(fun=backprop, x0=params, args=(input_size, hidden_size_1, hidden_size_2, num_labels, X, y_onehot, learning_rate),\n",
        "                method='TNC', jac=True, options={'maxiter': 250})\n",
        "fmin"
      ]
    },
    {
      "cell_type": "markdown",
      "metadata": {
        "id": "DhTaNzZMdK9T"
      },
      "source": [
        "We put a bound on the number of iterations since the objective function is not likely to completely converge.  Our total cost has dropped below 0.5 though so that's a good indicator that the algorithm is working.  Let's use the parameters it found and forward-propagate them through the network to get some predictions."
      ]
    },
    {
      "cell_type": "code",
      "execution_count": 32,
      "metadata": {
        "colab": {
          "base_uri": "https://localhost:8080/"
        },
        "id": "Ygy93fUZdK9T",
        "outputId": "2c3c230c-dd83-4db2-a92a-7a53c61dec22"
      },
      "outputs": [
        {
          "data": {
            "text/plain": [
              "array([[10],\n",
              "       [10],\n",
              "       [10],\n",
              "       ...,\n",
              "       [ 9],\n",
              "       [ 9],\n",
              "       [ 9]])"
            ]
          },
          "execution_count": 32,
          "metadata": {},
          "output_type": "execute_result"
        }
      ],
      "source": [
        "X = np.matrix(X)\n",
        "theta1 = np.matrix(np.reshape(fmin.x[:hidden_size_1 * (input_size + 1)], (hidden_size_1, (input_size + 1))))\n",
        "theta2 = np.matrix(np.reshape(fmin.x[hidden_size_1 * (input_size + 1):hidden_size_1 * (input_size + 1) + hidden_size_2 * (hidden_size_1 + 1)], (hidden_size_2, (hidden_size_1 + 1))))\n",
        "theta3 = np.matrix(np.reshape(fmin.x[hidden_size_1 * (input_size + 1) + hidden_size_2 * (hidden_size_1 + 1):], (num_labels, (hidden_size_2 + 1))))\n",
        "\n",
        "a1, z2, a2, z3, a3, z3, h = forward_propagate(X, theta1, theta2, theta3)\n",
        "y_pred = np.array(np.argmax(h, axis=1) + 1)\n",
        "y_pred"
      ]
    },
    {
      "cell_type": "markdown",
      "metadata": {
        "id": "cQRAnhhGdK9T"
      },
      "source": [
        "Finally we can compute the accuracy to see how well our trained network is doing."
      ]
    },
    {
      "cell_type": "code",
      "execution_count": 35,
      "metadata": {
        "colab": {
          "base_uri": "https://localhost:8080/"
        },
        "id": "dbqn5N3AdK9T",
        "outputId": "c87c3854-e40b-4e05-8bfd-53cd0931c437"
      },
      "outputs": [
        {
          "name": "stdout",
          "output_type": "stream",
          "text": [
            "accuracy = 100.0%\n"
          ]
        }
      ],
      "source": [
        "correct = [1 if a == b else 0 for (a, b) in zip(y_pred, y)]\n",
        "accuracy = (sum(map(int, correct)) / float(len(correct)))\n",
        "print('accuracy = {0}%'.format(accuracy * 100))"
      ]
    },
    {
      "cell_type": "markdown",
      "metadata": {
        "id": "dAzoTZ-aUcjc"
      },
      "source": [
        "The model accuracy of the 3-layered neural network is higher than that of the 2-layered neural network."
      ]
    },
    {
      "cell_type": "markdown",
      "metadata": {
        "id": "tLBpmhvZdK9T"
      },
      "source": [
        "And we're done!  We've successfully implemented a rudimentary feed-forward neural network with backpropagation and used it to classify images of handwritten digits.  In the next exercise we'll look at another power supervised learning algorithm, support vector machines."
      ]
    }
  ],
  "metadata": {
    "colab": {
      "provenance": []
    },
    "kernelspec": {
      "display_name": "DSUA301",
      "language": "python",
      "name": "python3"
    },
    "language_info": {
      "codemirror_mode": {
        "name": "ipython",
        "version": 2
      },
      "file_extension": ".py",
      "mimetype": "text/x-python",
      "name": "python",
      "nbconvert_exporter": "python",
      "pygments_lexer": "ipython2",
      "version": "3.1.0"
    }
  },
  "nbformat": 4,
  "nbformat_minor": 0
}
